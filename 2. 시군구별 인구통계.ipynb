{
 "cells": [
  {
   "cell_type": "code",
   "execution_count": 7,
   "id": "dcff963e-6c78-48c2-9215-00716a67e5dc",
   "metadata": {},
   "outputs": [],
   "source": [
    "import pandas as pd\n",
    "import requests\n",
    "from bs4 import BeautifulSoup"
   ]
  },
  {
   "cell_type": "code",
   "execution_count": 30,
   "id": "565c93a7-a756-42aa-9a1b-6e5cb1f12a2f",
   "metadata": {},
   "outputs": [],
   "source": [
    "korea_sigungu = [{\"sidonm\":\"서울특별시\",\"sltOrgLvl1\":\"1100000000\",\"levels\":\"1\"},{\"sidonm\":\"부산광역시\",\"sltOrgLvl1\":\"2600000000\",\"levels\":\"1\"},\n",
    "              {\"sidonm\":\"대구광역시\",\"sltOrgLvl1\":\"2700000000\",\"levels\":\"1\"},{\"sidonm\":\"인천광역시\",\"sltOrgLvl1\":\"2800000000\",\"levels\":\"1\"},\n",
    "              {\"sidonm\":\"광주광역시\",\"sltOrgLvl1\":\"2900000000\",\"levels\":\"1\"},{\"sidonm\":\"대전광역시\",\"sltOrgLvl1\":\"3000000000\",\"levels\":\"1\"},\n",
    "              {\"sidonm\":\"울산광역시\",\"sltOrgLvl1\":\"3100000000\",\"levels\":\"1\"},{\"sidonm\":\"세종특별자치시\",\"sltOrgLvl1\":\"3600000000\",\"levels\":\"1\"},\n",
    "              {\"sidonm\":\"경기도\",\"sltOrgLvl1\":\"4100000000\",\"levels\":\"1\"},{\"sidonm\":\"강원도\",\"sltOrgLvl1\":\"4200000000\",\"levels\":\"1\"},\n",
    "              {\"sidonm\":\"충청북도\",\"sltOrgLvl1\":\"4300000000\",\"levels\":\"1\"},{\"sidonm\":\"충청남도\",\"sltOrgLvl1\":\"4400000000\",\"levels\":\"1\"},\n",
    "              {\"sidonm\":\"전라북도\",\"sltOrgLvl1\":\"4500000000\",\"levels\":\"1\"},{\"sidonm\":\"전라남도\",\"sltOrgLvl1\":\"4600000000\",\"levels\":\"1\"},\n",
    "              {\"sidonm\":\"경상북도\",\"sltOrgLvl1\":\"4700000000\",\"levels\":\"1\"},{\"sidonm\":\"경상남도\",\"sltOrgLvl1\":\"4800000000\",\"levels\":\"1\"},\n",
    "              {\"sidonm\":\"제주특별자치도\",\"sltOrgLvl1\":\"5000000000\",\"levels\":\"1\"}]"
   ]
  },
  {
   "cell_type": "code",
   "execution_count": 31,
   "id": "4f6f649d-89d1-4963-8f31-f2e7128d9c3e",
   "metadata": {},
   "outputs": [
    {
     "data": {
      "text/plain": [
       "[{'sidonm': '서울특별시', 'sltOrgLvl1': '1100000000', 'levels': '1'},\n",
       " {'sidonm': '부산광역시', 'sltOrgLvl1': '2600000000', 'levels': '1'},\n",
       " {'sidonm': '대구광역시', 'sltOrgLvl1': '2700000000', 'levels': '1'},\n",
       " {'sidonm': '인천광역시', 'sltOrgLvl1': '2800000000', 'levels': '1'},\n",
       " {'sidonm': '광주광역시', 'sltOrgLvl1': '2900000000', 'levels': '1'},\n",
       " {'sidonm': '대전광역시', 'sltOrgLvl1': '3000000000', 'levels': '1'},\n",
       " {'sidonm': '울산광역시', 'sltOrgLvl1': '3100000000', 'levels': '1'},\n",
       " {'sidonm': '세종특별자치시', 'sltOrgLvl1': '3600000000', 'levels': '1'},\n",
       " {'sidonm': '경기도', 'sltOrgLvl1': '4100000000', 'levels': '1'},\n",
       " {'sidonm': '강원도', 'sltOrgLvl1': '4200000000', 'levels': '1'},\n",
       " {'sidonm': '충청북도', 'sltOrgLvl1': '4300000000', 'levels': '1'},\n",
       " {'sidonm': '충청남도', 'sltOrgLvl1': '4400000000', 'levels': '1'},\n",
       " {'sidonm': '전라북도', 'sltOrgLvl1': '4500000000', 'levels': '1'},\n",
       " {'sidonm': '전라남도', 'sltOrgLvl1': '4600000000', 'levels': '1'},\n",
       " {'sidonm': '경상북도', 'sltOrgLvl1': '4700000000', 'levels': '1'},\n",
       " {'sidonm': '경상남도', 'sltOrgLvl1': '4800000000', 'levels': '1'},\n",
       " {'sidonm': '제주특별자치도', 'sltOrgLvl1': '5000000000', 'levels': '1'}]"
      ]
     },
     "execution_count": 31,
     "metadata": {},
     "output_type": "execute_result"
    }
   ],
   "source": [
    "korea_sigungu"
   ]
  },
  {
   "cell_type": "code",
   "execution_count": 137,
   "id": "bdc4136e-f6c9-401a-958f-8919e70a4761",
   "metadata": {},
   "outputs": [],
   "source": [
    "tot = []\n",
    "for num in korea_sigungu:\n",
    "    data ={'sltOrgType':'2',\n",
    "           'sltOrgLvl1':num['sltOrgLvl1'],\n",
    "           'sltOrgLvl2':'A',\n",
    "           'sltUndefType':'',\n",
    "           'nowYear':'2022',\n",
    "           'searchYearMonth':'month',\n",
    "           'searchYearStart':'2022',\n",
    "           'searchMonthStart':'10',\n",
    "           'searchYearEnd':'2022',\n",
    "           'searchMonthEnd':'10',\n",
    "           'gender':'gender',\n",
    "           'genderPer':'genderPer',\n",
    "           'generation':'generation',\n",
    "           'sltOrderType':'1',\n",
    "           'sltOrderValue':'ASC'}\n",
    "    \n",
    "    url = 'https://jumin.mois.go.kr/statMonth.do'\n",
    "    city_name = num['sidonm']\n",
    "    req = requests.post(url,data=data)\n",
    "    soup = BeautifulSoup(req.text,'html.parser')\n",
    "    \n",
    "\n",
    "    for g in range(1,len(soup.select('div.section3> div > table > tbody > tr >td:nth-child(2)'))):\n",
    "        temp1=[]\n",
    "        name = soup.select('div.section3> div > table > tbody > tr >td:nth-child(2)')[g]\n",
    "        number = soup.select('div.section3> div > table > tbody > tr >td:nth-child(3)')[g]\n",
    "        temp1.append(city_name)\n",
    "        temp1.append(name.text)\n",
    "        temp1.append(number.text)\n",
    "        \n",
    "        tot.append(temp1)\n"
   ]
  },
  {
   "cell_type": "code",
   "execution_count": 134,
   "id": "07eb0d75-e0cb-4f47-b30c-8e0cbc8ec110",
   "metadata": {
    "collapsed": true,
    "jupyter": {
     "outputs_hidden": true
    },
    "tags": []
   },
   "outputs": [
    {
     "data": {
      "text/plain": [
       "[['종로구', '141,861', '서울특별시'],\n",
       " ['중구', '120,648', '서울특별시'],\n",
       " ['용산구', '219,102', '서울특별시'],\n",
       " ['성동구', '281,694', '서울특별시'],\n",
       " ['광진구', '337,900', '서울특별시'],\n",
       " ['동대문구', '337,273', '서울특별시'],\n",
       " ['중랑구', '385,976', '서울특별시'],\n",
       " ['성북구', '431,581', '서울특별시'],\n",
       " ['강북구', '294,429', '서울특별시'],\n",
       " ['도봉구', '312,427', '서울특별시'],\n",
       " ['노원구', '505,058', '서울특별시'],\n",
       " ['은평구', '468,988', '서울특별시'],\n",
       " ['서대문구', '305,113', '서울특별시'],\n",
       " ['마포구', '364,698', '서울특별시'],\n",
       " ['양천구', '441,749', '서울특별시'],\n",
       " ['강서구', '570,011', '서울특별시'],\n",
       " ['구로구', '394,212', '서울특별시'],\n",
       " ['금천구', '230,156', '서울특별시'],\n",
       " ['영등포구', '375,849', '서울특별시'],\n",
       " ['동작구', '382,747', '서울특별시'],\n",
       " ['관악구', '487,201', '서울특별시'],\n",
       " ['서초구', '404,902', '서울특별시'],\n",
       " ['강남구', '529,946', '서울특별시'],\n",
       " ['송파구', '659,788', '서울특별시'],\n",
       " ['강동구', '460,413', '서울특별시'],\n",
       " ['중구', '39,936', '부산광역시'],\n",
       " ['서구', '105,358', '부산광역시'],\n",
       " ['동구', '86,948', '부산광역시'],\n",
       " ['영도구', '108,505', '부산광역시'],\n",
       " ['부산진구', '353,568', '부산광역시'],\n",
       " ['동래구', '273,790', '부산광역시'],\n",
       " ['남구', '257,147', '부산광역시'],\n",
       " ['북구', '279,770', '부산광역시'],\n",
       " ['해운대구', '387,840', '부산광역시'],\n",
       " ['사하구', '302,844', '부산광역시'],\n",
       " ['금정구', '222,264', '부산광역시'],\n",
       " ['강서구', '143,611', '부산광역시'],\n",
       " ['연제구', '204,377', '부산광역시'],\n",
       " ['수영구', '174,694', '부산광역시'],\n",
       " ['사상구', '203,331', '부산광역시'],\n",
       " ['기장군', '178,303', '부산광역시']]"
      ]
     },
     "execution_count": 134,
     "metadata": {},
     "output_type": "execute_result"
    }
   ],
   "source": [
    "tot   # 시군구 / 총 인구수 / 행정구역"
   ]
  },
  {
   "cell_type": "code",
   "execution_count": 146,
   "id": "2c407a64-8c5f-419f-8e00-02a83d9db229",
   "metadata": {},
   "outputs": [],
   "source": [
    "population = pd.DataFrame(tot, columns = ['도시이름','시군구','총인구수'])"
   ]
  },
  {
   "cell_type": "code",
   "execution_count": 147,
   "id": "a9b67324-d807-4712-ad88-4f0bd06a442a",
   "metadata": {},
   "outputs": [
    {
     "data": {
      "text/html": [
       "<div>\n",
       "<style scoped>\n",
       "    .dataframe tbody tr th:only-of-type {\n",
       "        vertical-align: middle;\n",
       "    }\n",
       "\n",
       "    .dataframe tbody tr th {\n",
       "        vertical-align: top;\n",
       "    }\n",
       "\n",
       "    .dataframe thead th {\n",
       "        text-align: right;\n",
       "    }\n",
       "</style>\n",
       "<table border=\"1\" class=\"dataframe\">\n",
       "  <thead>\n",
       "    <tr style=\"text-align: right;\">\n",
       "      <th></th>\n",
       "      <th>도시이름</th>\n",
       "      <th>시군구</th>\n",
       "      <th>총인구수</th>\n",
       "    </tr>\n",
       "  </thead>\n",
       "  <tbody>\n",
       "    <tr>\n",
       "      <th>0</th>\n",
       "      <td>서울특별시</td>\n",
       "      <td>종로구</td>\n",
       "      <td>141,861</td>\n",
       "    </tr>\n",
       "    <tr>\n",
       "      <th>1</th>\n",
       "      <td>서울특별시</td>\n",
       "      <td>중구</td>\n",
       "      <td>120,648</td>\n",
       "    </tr>\n",
       "    <tr>\n",
       "      <th>2</th>\n",
       "      <td>서울특별시</td>\n",
       "      <td>용산구</td>\n",
       "      <td>219,102</td>\n",
       "    </tr>\n",
       "    <tr>\n",
       "      <th>3</th>\n",
       "      <td>서울특별시</td>\n",
       "      <td>성동구</td>\n",
       "      <td>281,694</td>\n",
       "    </tr>\n",
       "    <tr>\n",
       "      <th>4</th>\n",
       "      <td>서울특별시</td>\n",
       "      <td>광진구</td>\n",
       "      <td>337,900</td>\n",
       "    </tr>\n",
       "    <tr>\n",
       "      <th>...</th>\n",
       "      <td>...</td>\n",
       "      <td>...</td>\n",
       "      <td>...</td>\n",
       "    </tr>\n",
       "    <tr>\n",
       "      <th>256</th>\n",
       "      <td>경상남도</td>\n",
       "      <td>함양군</td>\n",
       "      <td>37,900</td>\n",
       "    </tr>\n",
       "    <tr>\n",
       "      <th>257</th>\n",
       "      <td>경상남도</td>\n",
       "      <td>거창군</td>\n",
       "      <td>60,475</td>\n",
       "    </tr>\n",
       "    <tr>\n",
       "      <th>258</th>\n",
       "      <td>경상남도</td>\n",
       "      <td>합천군</td>\n",
       "      <td>42,245</td>\n",
       "    </tr>\n",
       "    <tr>\n",
       "      <th>259</th>\n",
       "      <td>제주특별자치도</td>\n",
       "      <td>제주시</td>\n",
       "      <td>493,459</td>\n",
       "    </tr>\n",
       "    <tr>\n",
       "      <th>260</th>\n",
       "      <td>제주특별자치도</td>\n",
       "      <td>서귀포시</td>\n",
       "      <td>184,865</td>\n",
       "    </tr>\n",
       "  </tbody>\n",
       "</table>\n",
       "<p>261 rows × 3 columns</p>\n",
       "</div>"
      ],
      "text/plain": [
       "        도시이름   시군구     총인구수\n",
       "0      서울특별시   종로구  141,861\n",
       "1      서울특별시    중구  120,648\n",
       "2      서울특별시   용산구  219,102\n",
       "3      서울특별시   성동구  281,694\n",
       "4      서울특별시   광진구  337,900\n",
       "..       ...   ...      ...\n",
       "256     경상남도   함양군   37,900\n",
       "257     경상남도   거창군   60,475\n",
       "258     경상남도   합천군   42,245\n",
       "259  제주특별자치도   제주시  493,459\n",
       "260  제주특별자치도  서귀포시  184,865\n",
       "\n",
       "[261 rows x 3 columns]"
      ]
     },
     "execution_count": 147,
     "metadata": {},
     "output_type": "execute_result"
    }
   ],
   "source": [
    "population"
   ]
  },
  {
   "cell_type": "code",
   "execution_count": 154,
   "id": "087fe368-d8df-4d55-a979-c1f75903d2b8",
   "metadata": {},
   "outputs": [
    {
     "data": {
      "text/plain": [
       "array(['종로구', '중구', '용산구', '성동구', '광진구', '동대문구', '중랑구', '성북구', '강북구',\n",
       "       '도봉구', '노원구', '은평구', '서대문구', '마포구', '양천구', '강서구', '구로구', '금천구',\n",
       "       '영등포구', '동작구', '관악구', '서초구', '강남구', '송파구', '강동구', '서구', '동구',\n",
       "       '영도구', '부산진구', '동래구', '남구', '북구', '해운대구', '사하구', '금정구', '연제구',\n",
       "       '수영구', '사상구', '기장군', '수성구', '달서구', '달성군', '미추홀구', '연수구', '남동구',\n",
       "       '부평구', '계양구', '강화군', '옹진군', '광산구', '유성구', '대덕구', '울주군', '세종특별자치시',\n",
       "       '수원시', '수원시 장안구', '수원시 권선구', '수원시 팔달구', '수원시 영통구', '성남시',\n",
       "       '성남시 수정구', '성남시 중원구', '성남시 분당구', '의정부시', '안양시', '안양시 만안구',\n",
       "       '안양시 동안구', '부천시', '광명시', '평택시', '동두천시', '안산시', '안산시 상록구',\n",
       "       '안산시 단원구', '고양시', '고양시 덕양구', '고양시 일산동구', '고양시 일산서구', '과천시', '구리시',\n",
       "       '남양주시', '오산시', '시흥시', '군포시', '의왕시', '하남시', '용인시', '용인시 처인구',\n",
       "       '용인시 기흥구', '용인시 수지구', '파주시', '이천시', '안성시', '김포시', '화성시', '광주시',\n",
       "       '양주시', '포천시', '여주시', '연천군', '가평군', '양평군', '춘천시', '원주시', '강릉시',\n",
       "       '동해시', '태백시', '속초시', '삼척시', '홍천군', '횡성군', '영월군', '평창군', '정선군',\n",
       "       '철원군', '화천군', '양구군', '인제군', '고성군', '양양군', '청주시', '청주시 상당구',\n",
       "       '청주시 서원구', '청주시 흥덕구', '청주시 청원구', '충주시', '제천시', '보은군', '옥천군', '영동군',\n",
       "       '증평군', '진천군', '괴산군', '음성군', '단양군', '천안시', '천안시 동남구', '천안시 서북구',\n",
       "       '공주시', '보령시', '아산시', '서산시', '논산시', '계룡시', '당진시', '금산군', '부여군',\n",
       "       '서천군', '청양군', '홍성군', '예산군', '태안군', '전주시', '전주시 완산구', '전주시 덕진구',\n",
       "       '군산시', '익산시', '정읍시', '남원시', '김제시', '완주군', '진안군', '무주군', '장수군',\n",
       "       '임실군', '순창군', '고창군', '부안군', '목포시', '여수시', '순천시', '나주시', '광양시',\n",
       "       '담양군', '곡성군', '구례군', '고흥군', '보성군', '화순군', '장흥군', '강진군', '해남군',\n",
       "       '영암군', '무안군', '함평군', '영광군', '장성군', '완도군', '진도군', '신안군', '포항시',\n",
       "       '포항시 남구', '포항시 북구', '경주시', '김천시', '안동시', '구미시', '영주시', '영천시',\n",
       "       '상주시', '문경시', '경산시', '군위군', '의성군', '청송군', '영양군', '영덕군', '청도군',\n",
       "       '고령군', '성주군', '칠곡군', '예천군', '봉화군', '울진군', '울릉군', '창원시', '창원시 의창구',\n",
       "       '창원시 성산구', '창원시 마산합포구', '창원시 마산회원구', '창원시 진해구', '진주시', '통영시',\n",
       "       '사천시', '김해시', '밀양시', '거제시', '양산시', '의령군', '함안군', '창녕군', '남해군',\n",
       "       '하동군', '산청군', '함양군', '거창군', '합천군', '제주시', '서귀포시'], dtype=object)"
      ]
     },
     "execution_count": 154,
     "metadata": {},
     "output_type": "execute_result"
    }
   ],
   "source": [
    "population['시군구'].unique()"
   ]
  },
  {
   "cell_type": "code",
   "execution_count": 158,
   "id": "c8ef5b92-4bbd-487e-b325-afc23e858ffb",
   "metadata": {},
   "outputs": [],
   "source": [
    "population.to_csv('전국 시군구별 인구통계.csv',encoding='euckr',index=False)"
   ]
  },
  {
   "cell_type": "code",
   "execution_count": null,
   "id": "912fa04c-4c50-4b74-9e32-37bbb9970521",
   "metadata": {},
   "outputs": [],
   "source": []
  }
 ],
 "metadata": {
  "kernelspec": {
   "display_name": "Python 3 (ipykernel)",
   "language": "python",
   "name": "python3"
  },
  "language_info": {
   "codemirror_mode": {
    "name": "ipython",
    "version": 3
   },
   "file_extension": ".py",
   "mimetype": "text/x-python",
   "name": "python",
   "nbconvert_exporter": "python",
   "pygments_lexer": "ipython3",
   "version": "3.10.7"
  }
 },
 "nbformat": 4,
 "nbformat_minor": 5
}
